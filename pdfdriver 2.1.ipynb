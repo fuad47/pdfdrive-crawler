{
 "cells": [
  {
   "cell_type": "code",
   "execution_count": 1,
   "metadata": {},
   "outputs": [
    {
     "name": "stdout",
     "output_type": "stream",
     "text": [
      "Imports Done\n"
     ]
    }
   ],
   "source": [
    "import xlwt #pandasla excele yazmaq ucun pip install etmisem burda da import edirem.\n",
    "import numpy as np\n",
    "import pandas as pd\n",
    "import time\n",
    "import string\n",
    "import requests\n",
    "import selenium\n",
    "from selenium.webdriver import Chrome\n",
    "from selenium.webdriver.common.by import By\n",
    "from selenium.webdriver.chrome.options import Options\n",
    "from selenium.webdriver.support import expected_conditions as EC\n",
    "from selenium.webdriver.support.wait import WebDriverWait\n",
    "print(\"Imports Done\")"
   ]
  },
  {
   "cell_type": "code",
   "execution_count": null,
   "metadata": {},
   "outputs": [],
   "source": [
    "#urls=[\"https://www.pdfdrive.com/category/5\",\"https://www.pdfdrive.com/category/3\",\"https://www.pdfdrive.com/category/14\"]\n",
    "page_count=input(\"How many pages are there? \")\n",
    "pagecount=int(page_count)\n",
    "count=1\n",
    "url=\"https://www.pdfdrive.com/category/5\"\n",
    "\n",
    "browser=Chrome(executable_path='chromedriver')\n",
    "browser.get(url)\n",
    "time.sleep(3)\n",
    "comp_count=0\n",
    "\n",
    "while count<pagecount:\n",
    "    a=[]\n",
    "    components=browser.find_elements_by_css_selector('.files-new .file-left a:first-child')\n",
    "    #pages=browser.find_elements_by_css_selector('.pagination')\n",
    "    nextp=browser.find_element_by_css_selector('.navigation.next')\n",
    "    for comp in components:\n",
    "        a.append(comp.get_attribute(\"href\"))\n",
    "    print(a)\n",
    "    #p=[]\n",
    "    '''for page in pages:\n",
    "        p.append(page.get_attribute(\"href\"))\n",
    "    print(p)'''\n",
    "    for comp in a:\n",
    "        comp_count=comp_count+1\n",
    "        #comp=comp.click()\n",
    "        print(comp)\n",
    "        browser.get(comp)\n",
    "        download_button=WebDriverWait(browser,5).until(EC.presence_of_element_located((By.CSS_SELECTOR,'.btn.btn-primary.btn-responsive'))).click()\n",
    "        #print('clicked')\n",
    "        try:\n",
    "            download_pdf=WebDriverWait(browser,20).until(EC.visibility_of_element_located((By.CSS_SELECTOR,'div.text-center > div')))\n",
    "        #download_pdf=WebDriverWait(browser,30).until(EC.presence_of_element_located((By.XPATH,'/html/body/div[3]/div[1]/div[2]/center/div[2]/div[1]/div'))).click()\n",
    "            download_pdf.click()\n",
    "           #print('clicked download pdf')\n",
    "        except:\n",
    "            print(\"sorry this file skipped: \", comp)          \n",
    "        \n",
    "        print(\"file downloaded\")\n",
    "        time.sleep(2)\n",
    "    nextp.click()"
   ]
  }
 ],
 "metadata": {
  "kernelspec": {
   "display_name": "Python 3",
   "language": "python",
   "name": "python3"
  },
  "language_info": {
   "codemirror_mode": {
    "name": "ipython",
    "version": 3
   },
   "file_extension": ".py",
   "mimetype": "text/x-python",
   "name": "python",
   "nbconvert_exporter": "python",
   "pygments_lexer": "ipython3",
   "version": "3.7.5"
  }
 },
 "nbformat": 4,
 "nbformat_minor": 4
}
