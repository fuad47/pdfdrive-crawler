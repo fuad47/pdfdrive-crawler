{
 "cells": [
  {
   "cell_type": "code",
   "execution_count": 188,
   "metadata": {},
   "outputs": [
    {
     "name": "stdout",
     "output_type": "stream",
     "text": [
      "Imports Done\n"
     ]
    }
   ],
   "source": [
    "import xlwt #pandasla excele yazmaq ucun pip install etmisem burda da import edirem.\n",
    "import numpy as np\n",
    "import pandas as pd\n",
    "import time\n",
    "import string\n",
    "import requests\n",
    "import selenium\n",
    "from selenium.webdriver import Chrome\n",
    "from selenium.webdriver.common.by import By\n",
    "from selenium.webdriver.chrome.options import Options\n",
    "from selenium.webdriver.support import expected_conditions as EC\n",
    "from selenium.webdriver.support.wait import WebDriverWait\n",
    "print(\"Imports Done\")"
   ]
  },
  {
   "cell_type": "code",
   "execution_count": 208,
   "metadata": {},
   "outputs": [
    {
     "name": "stdin",
     "output_type": "stream",
     "text": [
      "How many pages are there?  2\n"
     ]
    },
    {
     "name": "stdout",
     "output_type": "stream",
     "text": [
      "['https://www.pdfdrive.com/hacking-for-dummies-3rd-edition-e8142411.html', 'https://www.pdfdrive.com/building-arduino-projects-for-the-internet-of-things-e31544549.html', 'https://www.pdfdrive.com/hacking-wireless-networks-for-dummiespdf-e18757441.html', 'https://www.pdfdrive.com/social-media-marketing-e7221224.html', 'https://www.pdfdrive.com/data-analysis-with-microsoft-excel-e25241812.html', 'https://www.pdfdrive.com/hacking-gmail-e24033860.html', 'https://www.pdfdrive.com/photoshop-for-dummies-e7451134.html', 'https://www.pdfdrive.com/beginning-programming-for-dummies-e7970080.html', 'https://www.pdfdrive.com/python-tutorial-tutorials-point-e10195863.html', 'https://www.pdfdrive.com/python-programming-an-introduction-to-computer-science-e941324.html', 'https://www.pdfdrive.com/certified-ethical-hacker-version-8-study-guide-e33585508.html', 'https://www.pdfdrive.com/php-mysql-javascript-html5-all-in-one-for-dummies-e18896179.html', 'https://www.pdfdrive.com/mastering-photoshop-for-web-design-e8109058.html', 'https://www.pdfdrive.com/web-design-with-html-and-css-e18760364.html', 'https://www.pdfdrive.com/digital-logic-and-computer-design-by-m-morris-mano-e34332016.html', 'https://www.pdfdrive.com/networking-for-dummies-for-dummies-7th-ed-e9679716.html', 'https://www.pdfdrive.com/cracking-the-coding-interview-fourth-edition-150-programming-e685299.html', 'https://www.pdfdrive.com/gray-hat-hacking-3rd-edition-e24105736.html', 'https://www.pdfdrive.com/pro-html5-and-css3-design-patterns-e12105664.html', 'https://www.pdfdrive.com/web-animation-using-javascript-develop-design-e25729884.html']\n",
      "https://www.pdfdrive.com/hacking-for-dummies-3rd-edition-e8142411.html\n",
      "clicked\n",
      "clicked download pdf\n",
      "downloaded\n",
      "https://www.pdfdrive.com/building-arduino-projects-for-the-internet-of-things-e31544549.html\n",
      "clicked\n",
      "clicked download pdf\n",
      "downloaded\n",
      "https://www.pdfdrive.com/hacking-wireless-networks-for-dummiespdf-e18757441.html\n",
      "clicked\n",
      "sorry this file skipped:  https://www.pdfdrive.com/hacking-wireless-networks-for-dummiespdf-e18757441.html\n",
      "downloaded\n",
      "https://www.pdfdrive.com/social-media-marketing-e7221224.html\n",
      "clicked\n",
      "sorry this file skipped:  https://www.pdfdrive.com/social-media-marketing-e7221224.html\n",
      "downloaded\n",
      "https://www.pdfdrive.com/data-analysis-with-microsoft-excel-e25241812.html\n",
      "clicked\n",
      "clicked download pdf\n",
      "downloaded\n",
      "https://www.pdfdrive.com/hacking-gmail-e24033860.html\n",
      "clicked\n",
      "sorry this file skipped:  https://www.pdfdrive.com/hacking-gmail-e24033860.html\n",
      "downloaded\n",
      "https://www.pdfdrive.com/photoshop-for-dummies-e7451134.html\n"
     ]
    },
    {
     "ename": "NoSuchWindowException",
     "evalue": "Message: no such window: target window already closed\nfrom unknown error: web view not found\n  (Session info: chrome=83.0.4103.116)\n  (Driver info: chromedriver=72.0.3626.69 (3c16f8a135abc0d4da2dff33804db79b849a7c38),platform=Windows NT 10.0.18363 x86_64)\n",
     "output_type": "error",
     "traceback": [
      "\u001b[1;31m---------------------------------------------------------------------------\u001b[0m",
      "\u001b[1;31mNoSuchWindowException\u001b[0m                     Traceback (most recent call last)",
      "\u001b[1;32m<ipython-input-208-06eebb7b15d6>\u001b[0m in \u001b[0;36m<module>\u001b[1;34m\u001b[0m\n\u001b[0;32m     26\u001b[0m         \u001b[1;31m#comp=comp.click()\u001b[0m\u001b[1;33m\u001b[0m\u001b[1;33m\u001b[0m\u001b[1;33m\u001b[0m\u001b[0m\n\u001b[0;32m     27\u001b[0m         \u001b[0mprint\u001b[0m\u001b[1;33m(\u001b[0m\u001b[0mcomp\u001b[0m\u001b[1;33m)\u001b[0m\u001b[1;33m\u001b[0m\u001b[1;33m\u001b[0m\u001b[0m\n\u001b[1;32m---> 28\u001b[1;33m         \u001b[0mbrowser\u001b[0m\u001b[1;33m.\u001b[0m\u001b[0mget\u001b[0m\u001b[1;33m(\u001b[0m\u001b[0mcomp\u001b[0m\u001b[1;33m)\u001b[0m\u001b[1;33m\u001b[0m\u001b[1;33m\u001b[0m\u001b[0m\n\u001b[0m\u001b[0;32m     29\u001b[0m         \u001b[0mdownload_button\u001b[0m\u001b[1;33m=\u001b[0m\u001b[0mWebDriverWait\u001b[0m\u001b[1;33m(\u001b[0m\u001b[0mbrowser\u001b[0m\u001b[1;33m,\u001b[0m\u001b[1;36m5\u001b[0m\u001b[1;33m)\u001b[0m\u001b[1;33m.\u001b[0m\u001b[0muntil\u001b[0m\u001b[1;33m(\u001b[0m\u001b[0mEC\u001b[0m\u001b[1;33m.\u001b[0m\u001b[0mpresence_of_element_located\u001b[0m\u001b[1;33m(\u001b[0m\u001b[1;33m(\u001b[0m\u001b[0mBy\u001b[0m\u001b[1;33m.\u001b[0m\u001b[0mCSS_SELECTOR\u001b[0m\u001b[1;33m,\u001b[0m\u001b[1;34m'.btn.btn-primary.btn-responsive'\u001b[0m\u001b[1;33m)\u001b[0m\u001b[1;33m)\u001b[0m\u001b[1;33m)\u001b[0m\u001b[1;33m.\u001b[0m\u001b[0mclick\u001b[0m\u001b[1;33m(\u001b[0m\u001b[1;33m)\u001b[0m\u001b[1;33m\u001b[0m\u001b[1;33m\u001b[0m\u001b[0m\n\u001b[0;32m     30\u001b[0m         \u001b[0mprint\u001b[0m\u001b[1;33m(\u001b[0m\u001b[1;34m'clicked'\u001b[0m\u001b[1;33m)\u001b[0m\u001b[1;33m\u001b[0m\u001b[1;33m\u001b[0m\u001b[0m\n",
      "\u001b[1;32mc:\\users\\fuad.ak\\appdata\\local\\programs\\python\\python37-32\\lib\\site-packages\\selenium\\webdriver\\remote\\webdriver.py\u001b[0m in \u001b[0;36mget\u001b[1;34m(self, url)\u001b[0m\n\u001b[0;32m    331\u001b[0m         \u001b[0mLoads\u001b[0m \u001b[0ma\u001b[0m \u001b[0mweb\u001b[0m \u001b[0mpage\u001b[0m \u001b[1;32min\u001b[0m \u001b[0mthe\u001b[0m \u001b[0mcurrent\u001b[0m \u001b[0mbrowser\u001b[0m \u001b[0msession\u001b[0m\u001b[1;33m.\u001b[0m\u001b[1;33m\u001b[0m\u001b[1;33m\u001b[0m\u001b[0m\n\u001b[0;32m    332\u001b[0m         \"\"\"\n\u001b[1;32m--> 333\u001b[1;33m         \u001b[0mself\u001b[0m\u001b[1;33m.\u001b[0m\u001b[0mexecute\u001b[0m\u001b[1;33m(\u001b[0m\u001b[0mCommand\u001b[0m\u001b[1;33m.\u001b[0m\u001b[0mGET\u001b[0m\u001b[1;33m,\u001b[0m \u001b[1;33m{\u001b[0m\u001b[1;34m'url'\u001b[0m\u001b[1;33m:\u001b[0m \u001b[0murl\u001b[0m\u001b[1;33m}\u001b[0m\u001b[1;33m)\u001b[0m\u001b[1;33m\u001b[0m\u001b[1;33m\u001b[0m\u001b[0m\n\u001b[0m\u001b[0;32m    334\u001b[0m \u001b[1;33m\u001b[0m\u001b[0m\n\u001b[0;32m    335\u001b[0m     \u001b[1;33m@\u001b[0m\u001b[0mproperty\u001b[0m\u001b[1;33m\u001b[0m\u001b[1;33m\u001b[0m\u001b[0m\n",
      "\u001b[1;32mc:\\users\\fuad.ak\\appdata\\local\\programs\\python\\python37-32\\lib\\site-packages\\selenium\\webdriver\\remote\\webdriver.py\u001b[0m in \u001b[0;36mexecute\u001b[1;34m(self, driver_command, params)\u001b[0m\n\u001b[0;32m    319\u001b[0m         \u001b[0mresponse\u001b[0m \u001b[1;33m=\u001b[0m \u001b[0mself\u001b[0m\u001b[1;33m.\u001b[0m\u001b[0mcommand_executor\u001b[0m\u001b[1;33m.\u001b[0m\u001b[0mexecute\u001b[0m\u001b[1;33m(\u001b[0m\u001b[0mdriver_command\u001b[0m\u001b[1;33m,\u001b[0m \u001b[0mparams\u001b[0m\u001b[1;33m)\u001b[0m\u001b[1;33m\u001b[0m\u001b[1;33m\u001b[0m\u001b[0m\n\u001b[0;32m    320\u001b[0m         \u001b[1;32mif\u001b[0m \u001b[0mresponse\u001b[0m\u001b[1;33m:\u001b[0m\u001b[1;33m\u001b[0m\u001b[1;33m\u001b[0m\u001b[0m\n\u001b[1;32m--> 321\u001b[1;33m             \u001b[0mself\u001b[0m\u001b[1;33m.\u001b[0m\u001b[0merror_handler\u001b[0m\u001b[1;33m.\u001b[0m\u001b[0mcheck_response\u001b[0m\u001b[1;33m(\u001b[0m\u001b[0mresponse\u001b[0m\u001b[1;33m)\u001b[0m\u001b[1;33m\u001b[0m\u001b[1;33m\u001b[0m\u001b[0m\n\u001b[0m\u001b[0;32m    322\u001b[0m             response['value'] = self._unwrap_value(\n\u001b[0;32m    323\u001b[0m                 response.get('value', None))\n",
      "\u001b[1;32mc:\\users\\fuad.ak\\appdata\\local\\programs\\python\\python37-32\\lib\\site-packages\\selenium\\webdriver\\remote\\errorhandler.py\u001b[0m in \u001b[0;36mcheck_response\u001b[1;34m(self, response)\u001b[0m\n\u001b[0;32m    240\u001b[0m                 \u001b[0malert_text\u001b[0m \u001b[1;33m=\u001b[0m \u001b[0mvalue\u001b[0m\u001b[1;33m[\u001b[0m\u001b[1;34m'alert'\u001b[0m\u001b[1;33m]\u001b[0m\u001b[1;33m.\u001b[0m\u001b[0mget\u001b[0m\u001b[1;33m(\u001b[0m\u001b[1;34m'text'\u001b[0m\u001b[1;33m)\u001b[0m\u001b[1;33m\u001b[0m\u001b[1;33m\u001b[0m\u001b[0m\n\u001b[0;32m    241\u001b[0m             \u001b[1;32mraise\u001b[0m \u001b[0mexception_class\u001b[0m\u001b[1;33m(\u001b[0m\u001b[0mmessage\u001b[0m\u001b[1;33m,\u001b[0m \u001b[0mscreen\u001b[0m\u001b[1;33m,\u001b[0m \u001b[0mstacktrace\u001b[0m\u001b[1;33m,\u001b[0m \u001b[0malert_text\u001b[0m\u001b[1;33m)\u001b[0m\u001b[1;33m\u001b[0m\u001b[1;33m\u001b[0m\u001b[0m\n\u001b[1;32m--> 242\u001b[1;33m         \u001b[1;32mraise\u001b[0m \u001b[0mexception_class\u001b[0m\u001b[1;33m(\u001b[0m\u001b[0mmessage\u001b[0m\u001b[1;33m,\u001b[0m \u001b[0mscreen\u001b[0m\u001b[1;33m,\u001b[0m \u001b[0mstacktrace\u001b[0m\u001b[1;33m)\u001b[0m\u001b[1;33m\u001b[0m\u001b[1;33m\u001b[0m\u001b[0m\n\u001b[0m\u001b[0;32m    243\u001b[0m \u001b[1;33m\u001b[0m\u001b[0m\n\u001b[0;32m    244\u001b[0m     \u001b[1;32mdef\u001b[0m \u001b[0m_value_or_default\u001b[0m\u001b[1;33m(\u001b[0m\u001b[0mself\u001b[0m\u001b[1;33m,\u001b[0m \u001b[0mobj\u001b[0m\u001b[1;33m,\u001b[0m \u001b[0mkey\u001b[0m\u001b[1;33m,\u001b[0m \u001b[0mdefault\u001b[0m\u001b[1;33m)\u001b[0m\u001b[1;33m:\u001b[0m\u001b[1;33m\u001b[0m\u001b[1;33m\u001b[0m\u001b[0m\n",
      "\u001b[1;31mNoSuchWindowException\u001b[0m: Message: no such window: target window already closed\nfrom unknown error: web view not found\n  (Session info: chrome=83.0.4103.116)\n  (Driver info: chromedriver=72.0.3626.69 (3c16f8a135abc0d4da2dff33804db79b849a7c38),platform=Windows NT 10.0.18363 x86_64)\n"
     ]
    }
   ],
   "source": [
    "#urls=[\"https://www.pdfdrive.com/category/5\",\"https://www.pdfdrive.com/category/3\",\"https://www.pdfdrive.com/category/14\"]\n",
    "page_count=input(\"How many pages are there? \")\n",
    "pagecount=int(page_count)\n",
    "count=1\n",
    "url=\"https://www.pdfdrive.com/category/5\"\n",
    "\n",
    "browser=Chrome(executable_path='chromedriver')\n",
    "browser.get(url)\n",
    "time.sleep(3)\n",
    "comp_count=0\n",
    "\n",
    "while count<pagecount:\n",
    "    a=[]\n",
    "    components=browser.find_elements_by_css_selector('.files-new .file-left a:first-child')\n",
    "    #pages=browser.find_elements_by_css_selector('.pagination')\n",
    "    nextp=browser.find_element_by_css_selector('.navigation.next')\n",
    "    for comp in components:\n",
    "        a.append(comp.get_attribute(\"href\"))\n",
    "    print(a)\n",
    "    #p=[]\n",
    "    '''for page in pages:\n",
    "        p.append(page.get_attribute(\"href\"))\n",
    "    print(p)'''\n",
    "    for comp in a:\n",
    "        comp_count=comp_count+1\n",
    "        #comp=comp.click()\n",
    "        print(comp)\n",
    "        browser.get(comp)\n",
    "        download_button=WebDriverWait(browser,5).until(EC.presence_of_element_located((By.CSS_SELECTOR,'.btn.btn-primary.btn-responsive'))).click()\n",
    "        #print('clicked')\n",
    "        try:\n",
    "            download_pdf=WebDriverWait(browser,20).until(EC.visibility_of_element_located((By.CSS_SELECTOR,'div.text-center > div')))\n",
    "        #download_pdf=WebDriverWait(browser,30).until(EC.presence_of_element_located((By.XPATH,'/html/body/div[3]/div[1]/div[2]/center/div[2]/div[1]/div'))).click()\n",
    "            download_pdf.click()\n",
    "           #print('clicked download pdf')\n",
    "        except:\n",
    "            print(\"sorry this file skipped: \", comp)          \n",
    "        \n",
    "        print(\"file downloaded\")\n",
    "        time.sleep(2)\n",
    "    nextp.click()"
   ]
  },
  {
   "cell_type": "code",
   "execution_count": 112,
   "metadata": {
    "collapsed": true,
    "jupyter": {
     "outputs_hidden": true
    }
   },
   "outputs": [
    {
     "data": {
      "text/plain": [
       "['https://www.pdfdrive.com/hacking-for-dummies-3rd-edition-e8142411.html',\n",
       " 'https://www.pdfdrive.com/hacking-for-dummies-3rd-edition-e8142411.html',\n",
       " 'https://www.pdfdrive.com/building-arduino-projects-for-the-internet-of-things-e31544549.html',\n",
       " 'https://www.pdfdrive.com/building-arduino-projects-for-the-internet-of-things-e31544549.html',\n",
       " 'https://www.pdfdrive.com/hacking-wireless-networks-for-dummiespdf-e18757441.html',\n",
       " 'https://www.pdfdrive.com/hacking-wireless-networks-for-dummiespdf-e18757441.html',\n",
       " 'https://www.pdfdrive.com/social-media-marketing-e7221224.html',\n",
       " 'https://www.pdfdrive.com/social-media-marketing-e7221224.html',\n",
       " 'https://www.pdfdrive.com/data-analysis-with-microsoft-excel-e25241812.html',\n",
       " 'https://www.pdfdrive.com/data-analysis-with-microsoft-excel-e25241812.html',\n",
       " 'https://www.pdfdrive.com/hacking-gmail-e24033860.html',\n",
       " 'https://www.pdfdrive.com/hacking-gmail-e24033860.html',\n",
       " 'https://www.pdfdrive.com/photoshop-for-dummies-e7451134.html',\n",
       " 'https://www.pdfdrive.com/photoshop-for-dummies-e7451134.html',\n",
       " 'https://www.pdfdrive.com/beginning-programming-for-dummies-e7970080.html',\n",
       " 'https://www.pdfdrive.com/beginning-programming-for-dummies-e7970080.html',\n",
       " 'https://www.pdfdrive.com/python-tutorial-tutorials-point-e10195863.html',\n",
       " 'https://www.pdfdrive.com/python-tutorial-tutorials-point-e10195863.html',\n",
       " 'https://www.pdfdrive.com/python-programming-an-introduction-to-computer-science-e941324.html',\n",
       " 'https://www.pdfdrive.com/python-programming-an-introduction-to-computer-science-e941324.html',\n",
       " 'https://www.pdfdrive.com/certified-ethical-hacker-version-8-study-guide-e33585508.html',\n",
       " 'https://www.pdfdrive.com/certified-ethical-hacker-version-8-study-guide-e33585508.html',\n",
       " 'https://www.pdfdrive.com/php-mysql-javascript-html5-all-in-one-for-dummies-e18896179.html',\n",
       " 'https://www.pdfdrive.com/php-mysql-javascript-html5-all-in-one-for-dummies-e18896179.html',\n",
       " 'https://www.pdfdrive.com/mastering-photoshop-for-web-design-e8109058.html',\n",
       " 'https://www.pdfdrive.com/mastering-photoshop-for-web-design-e8109058.html',\n",
       " 'https://www.pdfdrive.com/web-design-with-html-and-css-e18760364.html',\n",
       " 'https://www.pdfdrive.com/web-design-with-html-and-css-e18760364.html',\n",
       " 'https://www.pdfdrive.com/digital-logic-and-computer-design-by-m-morris-mano-e34332016.html',\n",
       " 'https://www.pdfdrive.com/digital-logic-and-computer-design-by-m-morris-mano-e34332016.html',\n",
       " 'https://www.pdfdrive.com/networking-for-dummies-for-dummies-7th-ed-e9679716.html',\n",
       " 'https://www.pdfdrive.com/networking-for-dummies-for-dummies-7th-ed-e9679716.html',\n",
       " 'https://www.pdfdrive.com/cracking-the-coding-interview-fourth-edition-150-programming-e685299.html',\n",
       " 'https://www.pdfdrive.com/cracking-the-coding-interview-fourth-edition-150-programming-e685299.html',\n",
       " 'https://www.pdfdrive.com/gray-hat-hacking-3rd-edition-e24105736.html',\n",
       " 'https://www.pdfdrive.com/gray-hat-hacking-3rd-edition-e24105736.html',\n",
       " 'https://www.pdfdrive.com/pro-html5-and-css3-design-patterns-e12105664.html',\n",
       " 'https://www.pdfdrive.com/pro-html5-and-css3-design-patterns-e12105664.html',\n",
       " 'https://www.pdfdrive.com/web-animation-using-javascript-develop-design-e25729884.html',\n",
       " 'https://www.pdfdrive.com/web-animation-using-javascript-develop-design-e25729884.html']"
      ]
     },
     "execution_count": 112,
     "metadata": {},
     "output_type": "execute_result"
    }
   ],
   "source": [
    "a"
   ]
  },
  {
   "cell_type": "code",
   "execution_count": 108,
   "metadata": {
    "collapsed": true,
    "jupyter": {
     "outputs_hidden": true
    }
   },
   "outputs": [
    {
     "name": "stdout",
     "output_type": "stream",
     "text": [
      "https://www.pdfdrive.com/hacking-for-dummies-3rd-edition-e8142411.html\n"
     ]
    },
    {
     "ename": "NameError",
     "evalue": "name 'StaleElementReferenceException' is not defined",
     "output_type": "error",
     "traceback": [
      "\u001b[1;31m---------------------------------------------------------------------------\u001b[0m",
      "\u001b[1;31mStaleElementReferenceException\u001b[0m            Traceback (most recent call last)",
      "\u001b[1;32m<ipython-input-108-a564d7790c56>\u001b[0m in \u001b[0;36m<module>\u001b[1;34m\u001b[0m\n\u001b[0;32m      6\u001b[0m     \u001b[1;32mtry\u001b[0m\u001b[1;33m:\u001b[0m\u001b[1;33m\u001b[0m\u001b[1;33m\u001b[0m\u001b[0m\n\u001b[1;32m----> 7\u001b[1;33m         \u001b[0mprint\u001b[0m\u001b[1;33m(\u001b[0m\u001b[0mi\u001b[0m\u001b[1;33m.\u001b[0m\u001b[0mget_attribute\u001b[0m\u001b[1;33m(\u001b[0m\u001b[1;34m\"href\"\u001b[0m\u001b[1;33m)\u001b[0m\u001b[1;33m)\u001b[0m\u001b[1;33m\u001b[0m\u001b[1;33m\u001b[0m\u001b[0m\n\u001b[0m\u001b[0;32m      8\u001b[0m         \u001b[0mbrowser\u001b[0m\u001b[1;33m.\u001b[0m\u001b[0mget\u001b[0m\u001b[1;33m(\u001b[0m\u001b[0mi\u001b[0m\u001b[1;33m.\u001b[0m\u001b[0mget_attribute\u001b[0m\u001b[1;33m(\u001b[0m\u001b[1;34m\"href\"\u001b[0m\u001b[1;33m)\u001b[0m\u001b[1;33m)\u001b[0m\u001b[1;33m\u001b[0m\u001b[1;33m\u001b[0m\u001b[0m\n",
      "\u001b[1;32mc:\\users\\fuad.ak\\appdata\\local\\programs\\python\\python37-32\\lib\\site-packages\\selenium\\webdriver\\remote\\webelement.py\u001b[0m in \u001b[0;36mget_attribute\u001b[1;34m(self, name)\u001b[0m\n\u001b[0;32m    142\u001b[0m         \u001b[1;32melse\u001b[0m\u001b[1;33m:\u001b[0m\u001b[1;33m\u001b[0m\u001b[1;33m\u001b[0m\u001b[0m\n\u001b[1;32m--> 143\u001b[1;33m             \u001b[0mresp\u001b[0m \u001b[1;33m=\u001b[0m \u001b[0mself\u001b[0m\u001b[1;33m.\u001b[0m\u001b[0m_execute\u001b[0m\u001b[1;33m(\u001b[0m\u001b[0mCommand\u001b[0m\u001b[1;33m.\u001b[0m\u001b[0mGET_ELEMENT_ATTRIBUTE\u001b[0m\u001b[1;33m,\u001b[0m \u001b[1;33m{\u001b[0m\u001b[1;34m'name'\u001b[0m\u001b[1;33m:\u001b[0m \u001b[0mname\u001b[0m\u001b[1;33m}\u001b[0m\u001b[1;33m)\u001b[0m\u001b[1;33m\u001b[0m\u001b[1;33m\u001b[0m\u001b[0m\n\u001b[0m\u001b[0;32m    144\u001b[0m             \u001b[0mattributeValue\u001b[0m \u001b[1;33m=\u001b[0m \u001b[0mresp\u001b[0m\u001b[1;33m.\u001b[0m\u001b[0mget\u001b[0m\u001b[1;33m(\u001b[0m\u001b[1;34m'value'\u001b[0m\u001b[1;33m)\u001b[0m\u001b[1;33m\u001b[0m\u001b[1;33m\u001b[0m\u001b[0m\n",
      "\u001b[1;32mc:\\users\\fuad.ak\\appdata\\local\\programs\\python\\python37-32\\lib\\site-packages\\selenium\\webdriver\\remote\\webelement.py\u001b[0m in \u001b[0;36m_execute\u001b[1;34m(self, command, params)\u001b[0m\n\u001b[0;32m    632\u001b[0m         \u001b[0mparams\u001b[0m\u001b[1;33m[\u001b[0m\u001b[1;34m'id'\u001b[0m\u001b[1;33m]\u001b[0m \u001b[1;33m=\u001b[0m \u001b[0mself\u001b[0m\u001b[1;33m.\u001b[0m\u001b[0m_id\u001b[0m\u001b[1;33m\u001b[0m\u001b[1;33m\u001b[0m\u001b[0m\n\u001b[1;32m--> 633\u001b[1;33m         \u001b[1;32mreturn\u001b[0m \u001b[0mself\u001b[0m\u001b[1;33m.\u001b[0m\u001b[0m_parent\u001b[0m\u001b[1;33m.\u001b[0m\u001b[0mexecute\u001b[0m\u001b[1;33m(\u001b[0m\u001b[0mcommand\u001b[0m\u001b[1;33m,\u001b[0m \u001b[0mparams\u001b[0m\u001b[1;33m)\u001b[0m\u001b[1;33m\u001b[0m\u001b[1;33m\u001b[0m\u001b[0m\n\u001b[0m\u001b[0;32m    634\u001b[0m \u001b[1;33m\u001b[0m\u001b[0m\n",
      "\u001b[1;32mc:\\users\\fuad.ak\\appdata\\local\\programs\\python\\python37-32\\lib\\site-packages\\selenium\\webdriver\\remote\\webdriver.py\u001b[0m in \u001b[0;36mexecute\u001b[1;34m(self, driver_command, params)\u001b[0m\n\u001b[0;32m    320\u001b[0m         \u001b[1;32mif\u001b[0m \u001b[0mresponse\u001b[0m\u001b[1;33m:\u001b[0m\u001b[1;33m\u001b[0m\u001b[1;33m\u001b[0m\u001b[0m\n\u001b[1;32m--> 321\u001b[1;33m             \u001b[0mself\u001b[0m\u001b[1;33m.\u001b[0m\u001b[0merror_handler\u001b[0m\u001b[1;33m.\u001b[0m\u001b[0mcheck_response\u001b[0m\u001b[1;33m(\u001b[0m\u001b[0mresponse\u001b[0m\u001b[1;33m)\u001b[0m\u001b[1;33m\u001b[0m\u001b[1;33m\u001b[0m\u001b[0m\n\u001b[0m\u001b[0;32m    322\u001b[0m             response['value'] = self._unwrap_value(\n",
      "\u001b[1;32mc:\\users\\fuad.ak\\appdata\\local\\programs\\python\\python37-32\\lib\\site-packages\\selenium\\webdriver\\remote\\errorhandler.py\u001b[0m in \u001b[0;36mcheck_response\u001b[1;34m(self, response)\u001b[0m\n\u001b[0;32m    241\u001b[0m             \u001b[1;32mraise\u001b[0m \u001b[0mexception_class\u001b[0m\u001b[1;33m(\u001b[0m\u001b[0mmessage\u001b[0m\u001b[1;33m,\u001b[0m \u001b[0mscreen\u001b[0m\u001b[1;33m,\u001b[0m \u001b[0mstacktrace\u001b[0m\u001b[1;33m,\u001b[0m \u001b[0malert_text\u001b[0m\u001b[1;33m)\u001b[0m\u001b[1;33m\u001b[0m\u001b[1;33m\u001b[0m\u001b[0m\n\u001b[1;32m--> 242\u001b[1;33m         \u001b[1;32mraise\u001b[0m \u001b[0mexception_class\u001b[0m\u001b[1;33m(\u001b[0m\u001b[0mmessage\u001b[0m\u001b[1;33m,\u001b[0m \u001b[0mscreen\u001b[0m\u001b[1;33m,\u001b[0m \u001b[0mstacktrace\u001b[0m\u001b[1;33m)\u001b[0m\u001b[1;33m\u001b[0m\u001b[1;33m\u001b[0m\u001b[0m\n\u001b[0m\u001b[0;32m    243\u001b[0m \u001b[1;33m\u001b[0m\u001b[0m\n",
      "\u001b[1;31mStaleElementReferenceException\u001b[0m: Message: stale element reference: element is not attached to the page document\n  (Session info: chrome=83.0.4103.116)\n  (Driver info: chromedriver=72.0.3626.69 (3c16f8a135abc0d4da2dff33804db79b849a7c38),platform=Windows NT 10.0.18363 x86_64)\n",
      "\nDuring handling of the above exception, another exception occurred:\n",
      "\u001b[1;31mNameError\u001b[0m                                 Traceback (most recent call last)",
      "\u001b[1;32m<ipython-input-108-a564d7790c56>\u001b[0m in \u001b[0;36m<module>\u001b[1;34m\u001b[0m\n\u001b[0;32m      7\u001b[0m         \u001b[0mprint\u001b[0m\u001b[1;33m(\u001b[0m\u001b[0mi\u001b[0m\u001b[1;33m.\u001b[0m\u001b[0mget_attribute\u001b[0m\u001b[1;33m(\u001b[0m\u001b[1;34m\"href\"\u001b[0m\u001b[1;33m)\u001b[0m\u001b[1;33m)\u001b[0m\u001b[1;33m\u001b[0m\u001b[1;33m\u001b[0m\u001b[0m\n\u001b[0;32m      8\u001b[0m         \u001b[0mbrowser\u001b[0m\u001b[1;33m.\u001b[0m\u001b[0mget\u001b[0m\u001b[1;33m(\u001b[0m\u001b[0mi\u001b[0m\u001b[1;33m.\u001b[0m\u001b[0mget_attribute\u001b[0m\u001b[1;33m(\u001b[0m\u001b[1;34m\"href\"\u001b[0m\u001b[1;33m)\u001b[0m\u001b[1;33m)\u001b[0m\u001b[1;33m\u001b[0m\u001b[1;33m\u001b[0m\u001b[0m\n\u001b[1;32m----> 9\u001b[1;33m     \u001b[1;32mexcept\u001b[0m \u001b[0mStaleElementReferenceException\u001b[0m \u001b[1;32mas\u001b[0m \u001b[0mException\u001b[0m\u001b[1;33m:\u001b[0m\u001b[1;33m\u001b[0m\u001b[1;33m\u001b[0m\u001b[0m\n\u001b[0m\u001b[0;32m     10\u001b[0m         \u001b[0mcomponents\u001b[0m\u001b[1;33m=\u001b[0m\u001b[0mbrowser\u001b[0m\u001b[1;33m.\u001b[0m\u001b[0mfind_elements_by_css_selector\u001b[0m\u001b[1;33m(\u001b[0m\u001b[1;34m'.files-new a'\u001b[0m\u001b[1;33m)\u001b[0m\u001b[1;33m\u001b[0m\u001b[1;33m\u001b[0m\u001b[0m\n\u001b[0;32m     11\u001b[0m         \u001b[0mbrowser\u001b[0m\u001b[1;33m.\u001b[0m\u001b[0mget\u001b[0m\u001b[1;33m(\u001b[0m\u001b[0mi\u001b[0m\u001b[1;33m.\u001b[0m\u001b[0mget_attribute\u001b[0m\u001b[1;33m(\u001b[0m\u001b[1;34m\"href\"\u001b[0m\u001b[1;33m)\u001b[0m\u001b[1;33m)\u001b[0m\u001b[1;33m\u001b[0m\u001b[1;33m\u001b[0m\u001b[0m\n",
      "\u001b[1;31mNameError\u001b[0m: name 'StaleElementReferenceException' is not defined"
     ]
    }
   ],
   "source": [
    "url=\"https://www.pdfdrive.com/category/5\"\n",
    "browser=Chrome(executable_path='chromedriver')\n",
    "browser.get(url)\n",
    "components=browser.find_elements_by_css_selector('.files-new a')\n",
    "for i in components:\n",
    "    try:\n",
    "        print(i.get_attribute(\"href\")) \n",
    "        browser.get(i.get_attribute(\"href\"))\n",
    "    except StaleElementReferenceException as Exception:\n",
    "        components=browser.find_elements_by_css_selector('.files-new a') \n",
    "        browser.get(i.get_attribute(\"href\"))\n",
    "    #time.sleep(5)"
   ]
  },
  {
   "cell_type": "code",
   "execution_count": null,
   "metadata": {},
   "outputs": [],
   "source": [
    "url=\"https://www.pdfdrive.com/category/5\"\n",
    "browser=Chrome(executable_path='chromedriver')\n",
    "browser.get(url)\n",
    "comp=browser.find_element_by_css_selector('.files-new a').get_attribute(\"href\")\n",
    "print(i)"
   ]
  },
  {
   "cell_type": "code",
   "execution_count": 124,
   "metadata": {},
   "outputs": [
    {
     "name": "stdout",
     "output_type": "stream",
     "text": [
      "done\n",
      "[<selenium.webdriver.remote.webelement.WebElement (session=\"9929759ebeac084df6560bd3ca006aa2\", element=\"0.5594161433296854-1\")>, <selenium.webdriver.remote.webelement.WebElement (session=\"9929759ebeac084df6560bd3ca006aa2\", element=\"0.5594161433296854-2\")>, <selenium.webdriver.remote.webelement.WebElement (session=\"9929759ebeac084df6560bd3ca006aa2\", element=\"0.5594161433296854-3\")>, <selenium.webdriver.remote.webelement.WebElement (session=\"9929759ebeac084df6560bd3ca006aa2\", element=\"0.5594161433296854-4\")>, <selenium.webdriver.remote.webelement.WebElement (session=\"9929759ebeac084df6560bd3ca006aa2\", element=\"0.5594161433296854-5\")>, <selenium.webdriver.remote.webelement.WebElement (session=\"9929759ebeac084df6560bd3ca006aa2\", element=\"0.5594161433296854-6\")>, <selenium.webdriver.remote.webelement.WebElement (session=\"9929759ebeac084df6560bd3ca006aa2\", element=\"0.5594161433296854-7\")>, <selenium.webdriver.remote.webelement.WebElement (session=\"9929759ebeac084df6560bd3ca006aa2\", element=\"0.5594161433296854-8\")>, <selenium.webdriver.remote.webelement.WebElement (session=\"9929759ebeac084df6560bd3ca006aa2\", element=\"0.5594161433296854-9\")>]\n"
     ]
    },
    {
     "ename": "TypeError",
     "evalue": "can only concatenate str (not \"WebElement\") to str",
     "output_type": "error",
     "traceback": [
      "\u001b[1;31m---------------------------------------------------------------------------\u001b[0m",
      "\u001b[1;31mTypeError\u001b[0m                                 Traceback (most recent call last)",
      "\u001b[1;32m<ipython-input-124-4425e97e441a>\u001b[0m in \u001b[0;36m<module>\u001b[1;34m\u001b[0m\n\u001b[0;32m      7\u001b[0m \u001b[0mprint\u001b[0m\u001b[1;33m(\u001b[0m\u001b[0mpages\u001b[0m\u001b[1;33m)\u001b[0m\u001b[1;33m\u001b[0m\u001b[1;33m\u001b[0m\u001b[0m\n\u001b[0;32m      8\u001b[0m \u001b[1;32mfor\u001b[0m \u001b[0mpage\u001b[0m \u001b[1;32min\u001b[0m \u001b[0mpages\u001b[0m\u001b[1;33m:\u001b[0m\u001b[1;33m\u001b[0m\u001b[1;33m\u001b[0m\u001b[0m\n\u001b[1;32m----> 9\u001b[1;33m     \u001b[0mpage\u001b[0m\u001b[1;33m=\u001b[0m\u001b[1;34m'https://www.pdfdrive.com'\u001b[0m\u001b[1;33m+\u001b[0m\u001b[0mpage\u001b[0m\u001b[1;31m#.get_attribute(\"href\")\u001b[0m\u001b[1;33m\u001b[0m\u001b[1;33m\u001b[0m\u001b[0m\n\u001b[0m\u001b[0;32m     10\u001b[0m     \u001b[0mp\u001b[0m\u001b[1;33m.\u001b[0m\u001b[0mappend\u001b[0m\u001b[1;33m(\u001b[0m\u001b[1;34m'https://www.pdfdrive.com'\u001b[0m\u001b[1;33m+\u001b[0m\u001b[0mpage\u001b[0m\u001b[1;33m.\u001b[0m\u001b[0mget_attribute\u001b[0m\u001b[1;33m(\u001b[0m\u001b[1;34m\"href\"\u001b[0m\u001b[1;33m)\u001b[0m\u001b[1;33m)\u001b[0m\u001b[1;33m\u001b[0m\u001b[1;33m\u001b[0m\u001b[0m\n\u001b[0;32m     11\u001b[0m \u001b[0mprint\u001b[0m\u001b[1;33m(\u001b[0m\u001b[0mp\u001b[0m\u001b[1;33m)\u001b[0m\u001b[1;33m\u001b[0m\u001b[1;33m\u001b[0m\u001b[0m\n",
      "\u001b[1;31mTypeError\u001b[0m: can only concatenate str (not \"WebElement\") to str"
     ]
    }
   ],
   "source": [
    "browser=Chrome(executable_path='chromedriver')\n",
    "browser.get(\"https://www.pdfdrive.com/category/5\")\n",
    "print(\"done\")\n",
    "#download_pdf=WebDriverWait(browser,15).until(EC.presence_of_element_located((By.CSS_SELECTOR,'div.text-center > div')))\n",
    "p=[]\n",
    "pages=browser.find_elements_by_css_selector('.pagination a')\n",
    "print(pages)\n",
    "for page in pages:\n",
    "    p.append(page.get_attribute(\"href\"))\n",
    "print(p)\n"
   ]
  },
  {
   "cell_type": "code",
   "execution_count": 85,
   "metadata": {},
   "outputs": [
    {
     "data": {
      "text/plain": [
       "'Download ( PDF )\\nMenu'"
      ]
     },
     "execution_count": 85,
     "metadata": {},
     "output_type": "execute_result"
    }
   ],
   "source": [
    "download_pdf.text"
   ]
  },
  {
   "cell_type": "code",
   "execution_count": 88,
   "metadata": {},
   "outputs": [],
   "source": [
    "download_pdf.click()"
   ]
  },
  {
   "cell_type": "code",
   "execution_count": 173,
   "metadata": {},
   "outputs": [
    {
     "data": {
      "text/plain": [
       "['javascript:void(0)',\n",
       " 'https://www.pdfdrive.com/category/5/p1/',\n",
       " 'https://www.pdfdrive.com/category/5/p2/',\n",
       " 'https://www.pdfdrive.com/category/5/p3/',\n",
       " 'https://www.pdfdrive.com/category/5/p4/',\n",
       " 'https://www.pdfdrive.com/category/5/p5/',\n",
       " 'https://www.pdfdrive.com/category/5/p6/',\n",
       " 'https://www.pdfdrive.com/category/5/p12/',\n",
       " 'https://www.pdfdrive.com/category/5/p2/']"
      ]
     },
     "execution_count": 173,
     "metadata": {},
     "output_type": "execute_result"
    }
   ],
   "source": [
    "p=[]\n",
    "for page in pages:\n",
    "    #print(page.text)\n",
    "    #print(page.get_attribute(\"href\"))\n",
    "    p.append(page.get_attribute(\"href\"))\n",
    "p"
   ]
  },
  {
   "cell_type": "code",
   "execution_count": 181,
   "metadata": {},
   "outputs": [
    {
     "name": "stdout",
     "output_type": "stream",
     "text": [
      "clicked\n",
      "clicked\n",
      "clicked\n"
     ]
    }
   ],
   "source": [
    "browser=Chrome(executable_path='chromedriver')\n",
    "browser.get(\"https://www.pdfdrive.com/category/5\")\n",
    "page_count=input(\"How many pages are there? \")\n",
    "pagecount=int(page_count)\n",
    "count=1\n",
    "while count<pagecount:\n",
    "    nextp=browser.find_element_by_css_selector('.navigation.next')\n",
    "    nextp.click()\n",
    "    print(\"clicked\")\n",
    "    count+=1\n",
    "#lastp=browser.find_element_by_css_selector('.pagination a:last-child')\n",
    "#print(lastp.text)#.get_attribute(\"href\"))\n",
    "#print(lastp.get_attribute(\"href\"))"
   ]
  },
  {
   "cell_type": "code",
   "execution_count": 204,
   "metadata": {},
   "outputs": [
    {
     "ename": "ModuleNotFoundError",
     "evalue": "No module named 'page'",
     "output_type": "error",
     "traceback": [
      "\u001b[1;31m---------------------------------------------------------------------------\u001b[0m",
      "\u001b[1;31mModuleNotFoundError\u001b[0m                       Traceback (most recent call last)",
      "\u001b[1;32m<ipython-input-204-fe98977a306b>\u001b[0m in \u001b[0;36m<module>\u001b[1;34m\u001b[0m\n\u001b[1;32m----> 1\u001b[1;33m \u001b[1;32mimport\u001b[0m \u001b[0mos\u001b[0m\u001b[1;33m,\u001b[0m\u001b[0mpage\u001b[0m\u001b[1;33m\u001b[0m\u001b[1;33m\u001b[0m\u001b[0m\n\u001b[0m\u001b[0;32m      2\u001b[0m \u001b[1;33m\u001b[0m\u001b[0m\n\u001b[0;32m      3\u001b[0m \u001b[0mchrome_options\u001b[0m \u001b[1;33m=\u001b[0m \u001b[0mOptions\u001b[0m\u001b[1;33m(\u001b[0m\u001b[1;33m)\u001b[0m\u001b[1;33m\u001b[0m\u001b[1;33m\u001b[0m\u001b[0m\n\u001b[0;32m      4\u001b[0m \u001b[0mprefs\u001b[0m \u001b[1;33m=\u001b[0m \u001b[1;33m{\u001b[0m\u001b[1;34m'profile.default_content_setting_values.automatic_downloads'\u001b[0m\u001b[1;33m:\u001b[0m \u001b[1;36m0\u001b[0m\u001b[1;33m}\u001b[0m\u001b[1;33m\u001b[0m\u001b[1;33m\u001b[0m\u001b[0m\n\u001b[0;32m      5\u001b[0m \u001b[0mchrome_options\u001b[0m\u001b[1;33m.\u001b[0m\u001b[0madd_experimental_option\u001b[0m\u001b[1;33m(\u001b[0m\u001b[1;34m\"prefs\"\u001b[0m\u001b[1;33m,\u001b[0m \u001b[0mprefs\u001b[0m\u001b[1;33m)\u001b[0m\u001b[1;33m\u001b[0m\u001b[1;33m\u001b[0m\u001b[0m\n",
      "\u001b[1;31mModuleNotFoundError\u001b[0m: No module named 'page'"
     ]
    }
   ],
   "source": [
    "import os,page\n",
    "\n",
    "chrome_options = Options()\n",
    "prefs = {'profile.default_content_setting_values.automatic_downloads': 1}\n",
    "chrome_options.add_experimental_option(\"prefs\", prefs)\n",
    "# this is the preference we're passing\n",
    "\n",
    "browser=Chrome(executable_path='chromedriver', options=chrome_options)\n",
    "browser.get(\"https://www.pdfdrive.com/social-media-marketing-d7221224.html\")\n",
    "time.sleep(5)\n",
    "#browser.find_element_by_css_selector('.text-center a').click()\n",
    "#browser.execute_script('window.print();')\n",
    "\n",
    "main_page = page.MainPage(self.driver)\n",
    "main_page.search_text_element = \"pycon\"\n",
    "\n",
    "Actions actions = new Actions(driver);\n",
    "WebElement elementLocator = driver.findElement(By.id(\"ID\"));\n",
    "actions.contextClick(elementLocator).perform();\n",
    "\n"
   ]
  },
  {
   "cell_type": "code",
   "execution_count": 207,
   "metadata": {},
   "outputs": [
    {
     "name": "stdout",
     "output_type": "stream",
     "text": [
      "good\n"
     ]
    }
   ],
   "source": [
    "try:\n",
    "    5+a\n",
    "except:\n",
    "    pass\n",
    "    \n",
    "print('good')"
   ]
  }
 ],
 "metadata": {
  "kernelspec": {
   "display_name": "Python 3",
   "language": "python",
   "name": "python3"
  },
  "language_info": {
   "codemirror_mode": {
    "name": "ipython",
    "version": 3
   },
   "file_extension": ".py",
   "mimetype": "text/x-python",
   "name": "python",
   "nbconvert_exporter": "python",
   "pygments_lexer": "ipython3",
   "version": "3.7.5"
  }
 },
 "nbformat": 4,
 "nbformat_minor": 4
}
